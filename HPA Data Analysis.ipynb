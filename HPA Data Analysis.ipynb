{
 "cells": [
  {
   "cell_type": "markdown",
   "id": "203029a5",
   "metadata": {},
   "source": [
    "# <font size=\"6\"><center>FORBES HIGH PAID ATHLETES 1990-2021 DATA ANALYSIS"
   ]
  },
  {
   "cell_type": "markdown",
   "id": "48b7a513",
   "metadata": {},
   "source": [
    "![](https://www.glusea.com/wp-content/uploads/2021/06/highest-paid.jpg?compress=true&quality=80&w=500&dpr=1.4)"
   ]
  },
  {
   "cell_type": "markdown",
   "id": "05a5bb40",
   "metadata": {},
   "source": [
    "Since 1990 Forbes has tracked the highest-earning athletes in the world. For each year (except 2001 when they switched the time period for which the data was tallied), the magazine has listed between 40 or so and 100 athletes earning the most in salary and endorsements."
   ]
  },
  {
   "cell_type": "markdown",
   "id": "dce32240",
   "metadata": {},
   "source": [
    "# TABLE OF CONTENTS\n",
    "\n",
    "## 1. Reading the Dataset.\n",
    "This chapter presents the steps to read the dataset about IPL matches.\n",
    "\n",
    "## 2. Data Preparation: Cleaning and Formatting.\n",
    "In all data-analysis projects, the data preparation step is not only necessary but also vital to find and handle features that could cause some problems while making the quantitative analysis, or that could lead to low efficient coding. According to Alivia Smith, this step usually takes up to 80% of the entire time of a data analysis project. Therefore, missing, invalid, and inconsistent values have been addressed. Finally, this step presents a code for changing the format of column names.\n",
    "\n",
    "## 3. Exploratory Data Analysis (EDA) and Visualization. Quantitative and qualitative analysis (Asking and Answering Questions).\n",
    "Although in many cases, the exploratory data analysis and the quantitative and qualitative analysis are separated steps, in this specific project, they have been joined. This step, previous to asking questions that could lead to reaching the project's aim, presents global-useful information about the different columns of the dataset. Some initial examinations were performed as a way of beginning finding patterns, creating hypotheses, and corroborating early assumptions. Later, deeper investigations were depicted as part of reaching the project's goal.\n",
    "\n",
    "### Analysis covered: \n",
    "Total earnings of all athletes per year\n",
    "\n",
    "### Asking and Answering Questions:\n",
    "1. Which Athletes has the highest Earning value?\n",
    "2. Which Sport has the highest Earning value?\n",
    "\n",
    "## 4. Inferences and Conclusions.\n",
    "Although all conclusions and answers are exposed in the previous section accordingly to each question, this section also presents, in a concise manner, the most significant insights."
   ]
  },
  {
   "cell_type": "markdown",
   "id": "29e297c8",
   "metadata": {},
   "source": [
    "# 1. READING THE DATASET\n",
    "We're going to begin by importing all the packages we'll use in this project."
   ]
  },
  {
   "cell_type": "code",
   "execution_count": 1,
   "id": "f0a0115a",
   "metadata": {},
   "outputs": [],
   "source": [
    "import os\n",
    "import pandas as pd\n",
    "import numpy as np\n",
    "import matplotlib\n",
    "import matplotlib.pyplot as plt\n",
    "%matplotlib inline\n",
    "import seaborn as sns"
   ]
  },
  {
   "cell_type": "code",
   "execution_count": 2,
   "id": "da2b2c9d",
   "metadata": {},
   "outputs": [],
   "source": [
    "# load CSV file into Dataframe and take a overview \n",
    "df = pd.read_csv('forbesathletesv2.csv')"
   ]
  },
  {
   "cell_type": "markdown",
   "id": "19faf258",
   "metadata": {},
   "source": [
    "Because the file is a comma-separated value (CSV) file, we use the pandas function pd.read_csv() to open and read the file."
   ]
  },
  {
   "cell_type": "markdown",
   "id": "44b84026",
   "metadata": {},
   "source": [
    "# 2. DATA TREATMENT: CLEANING AND FORMATTING"
   ]
  },
  {
   "cell_type": "code",
   "execution_count": 3,
   "id": "20502066",
   "metadata": {},
   "outputs": [
    {
     "data": {
      "text/html": [
       "<div>\n",
       "<style scoped>\n",
       "    .dataframe tbody tr th:only-of-type {\n",
       "        vertical-align: middle;\n",
       "    }\n",
       "\n",
       "    .dataframe tbody tr th {\n",
       "        vertical-align: top;\n",
       "    }\n",
       "\n",
       "    .dataframe thead th {\n",
       "        text-align: right;\n",
       "    }\n",
       "</style>\n",
       "<table border=\"1\" class=\"dataframe\">\n",
       "  <thead>\n",
       "    <tr style=\"text-align: right;\">\n",
       "      <th></th>\n",
       "      <th>Name</th>\n",
       "      <th>Earnings</th>\n",
       "      <th>Year</th>\n",
       "      <th>Sport</th>\n",
       "    </tr>\n",
       "  </thead>\n",
       "  <tbody>\n",
       "    <tr>\n",
       "      <th>0</th>\n",
       "      <td>Conor McGregor</td>\n",
       "      <td>180.0</td>\n",
       "      <td>2021</td>\n",
       "      <td>Mixed Martial Arts</td>\n",
       "    </tr>\n",
       "    <tr>\n",
       "      <th>1</th>\n",
       "      <td>Lionel Messi</td>\n",
       "      <td>130.0</td>\n",
       "      <td>2021</td>\n",
       "      <td>Soccer</td>\n",
       "    </tr>\n",
       "    <tr>\n",
       "      <th>2</th>\n",
       "      <td>Cristiano Ronaldo</td>\n",
       "      <td>120.0</td>\n",
       "      <td>2021</td>\n",
       "      <td>Soccer</td>\n",
       "    </tr>\n",
       "    <tr>\n",
       "      <th>3</th>\n",
       "      <td>Dak Prescott</td>\n",
       "      <td>107.5</td>\n",
       "      <td>2021</td>\n",
       "      <td>Football</td>\n",
       "    </tr>\n",
       "    <tr>\n",
       "      <th>4</th>\n",
       "      <td>LeBron James</td>\n",
       "      <td>96.5</td>\n",
       "      <td>2021</td>\n",
       "      <td>Basketball</td>\n",
       "    </tr>\n",
       "  </tbody>\n",
       "</table>\n",
       "</div>"
      ],
      "text/plain": [
       "                Name  Earnings  Year               Sport\n",
       "0     Conor McGregor     180.0  2021  Mixed Martial Arts\n",
       "1       Lionel Messi     130.0  2021              Soccer\n",
       "2  Cristiano Ronaldo     120.0  2021              Soccer\n",
       "3       Dak Prescott     107.5  2021            Football\n",
       "4       LeBron James      96.5  2021          Basketball"
      ]
     },
     "execution_count": 3,
     "metadata": {},
     "output_type": "execute_result"
    }
   ],
   "source": [
    "df.head()"
   ]
  },
  {
   "cell_type": "code",
   "execution_count": 4,
   "id": "c30d3c94",
   "metadata": {},
   "outputs": [
    {
     "data": {
      "text/plain": [
       "pandas.core.frame.DataFrame"
      ]
     },
     "execution_count": 4,
     "metadata": {},
     "output_type": "execute_result"
    }
   ],
   "source": [
    "type(df)"
   ]
  },
  {
   "cell_type": "markdown",
   "id": "5b39ba79",
   "metadata": {},
   "source": [
    "We have verified that the file has been created as a DataFrame variable. And we can see the first five rows of the dataset as a preview."
   ]
  },
  {
   "cell_type": "code",
   "execution_count": 5,
   "id": "dd0e67d5",
   "metadata": {},
   "outputs": [
    {
     "name": "stdout",
     "output_type": "stream",
     "text": [
      "The dataset contains 1659 rows and 4 columns\n"
     ]
    }
   ],
   "source": [
    "print('The dataset contains {} rows and {} columns'.format(df.shape[0],df.shape[1]))"
   ]
  },
  {
   "cell_type": "markdown",
   "id": "475a69e4",
   "metadata": {},
   "source": [
    "Now, let's see some additional information."
   ]
  },
  {
   "cell_type": "code",
   "execution_count": 6,
   "id": "5e99d035",
   "metadata": {},
   "outputs": [
    {
     "name": "stdout",
     "output_type": "stream",
     "text": [
      "<class 'pandas.core.frame.DataFrame'>\n",
      "RangeIndex: 1659 entries, 0 to 1658\n",
      "Data columns (total 4 columns):\n",
      " #   Column    Non-Null Count  Dtype  \n",
      "---  ------    --------------  -----  \n",
      " 0   Name      1659 non-null   object \n",
      " 1   Earnings  1659 non-null   float64\n",
      " 2   Year      1659 non-null   int64  \n",
      " 3   Sport     1659 non-null   object \n",
      "dtypes: float64(1), int64(1), object(2)\n",
      "memory usage: 52.0+ KB\n"
     ]
    }
   ],
   "source": [
    "df.info()"
   ]
  },
  {
   "cell_type": "code",
   "execution_count": 7,
   "id": "20a02087",
   "metadata": {},
   "outputs": [
    {
     "data": {
      "text/html": [
       "<div>\n",
       "<style scoped>\n",
       "    .dataframe tbody tr th:only-of-type {\n",
       "        vertical-align: middle;\n",
       "    }\n",
       "\n",
       "    .dataframe tbody tr th {\n",
       "        vertical-align: top;\n",
       "    }\n",
       "\n",
       "    .dataframe thead th {\n",
       "        text-align: right;\n",
       "    }\n",
       "</style>\n",
       "<table border=\"1\" class=\"dataframe\">\n",
       "  <thead>\n",
       "    <tr style=\"text-align: right;\">\n",
       "      <th></th>\n",
       "      <th>Earnings</th>\n",
       "      <th>Year</th>\n",
       "    </tr>\n",
       "  </thead>\n",
       "  <tbody>\n",
       "    <tr>\n",
       "      <th>count</th>\n",
       "      <td>1659.000000</td>\n",
       "      <td>1659.000000</td>\n",
       "    </tr>\n",
       "    <tr>\n",
       "      <th>mean</th>\n",
       "      <td>27.523810</td>\n",
       "      <td>2009.338156</td>\n",
       "    </tr>\n",
       "    <tr>\n",
       "      <th>std</th>\n",
       "      <td>20.334179</td>\n",
       "      <td>9.374635</td>\n",
       "    </tr>\n",
       "    <tr>\n",
       "      <th>min</th>\n",
       "      <td>3.800000</td>\n",
       "      <td>1990.000000</td>\n",
       "    </tr>\n",
       "    <tr>\n",
       "      <th>25%</th>\n",
       "      <td>17.750000</td>\n",
       "      <td>2002.000000</td>\n",
       "    </tr>\n",
       "    <tr>\n",
       "      <th>50%</th>\n",
       "      <td>24.000000</td>\n",
       "      <td>2013.000000</td>\n",
       "    </tr>\n",
       "    <tr>\n",
       "      <th>75%</th>\n",
       "      <td>32.000000</td>\n",
       "      <td>2017.000000</td>\n",
       "    </tr>\n",
       "    <tr>\n",
       "      <th>max</th>\n",
       "      <td>300.000000</td>\n",
       "      <td>2021.000000</td>\n",
       "    </tr>\n",
       "  </tbody>\n",
       "</table>\n",
       "</div>"
      ],
      "text/plain": [
       "          Earnings         Year\n",
       "count  1659.000000  1659.000000\n",
       "mean     27.523810  2009.338156\n",
       "std      20.334179     9.374635\n",
       "min       3.800000  1990.000000\n",
       "25%      17.750000  2002.000000\n",
       "50%      24.000000  2013.000000\n",
       "75%      32.000000  2017.000000\n",
       "max     300.000000  2021.000000"
      ]
     },
     "execution_count": 7,
     "metadata": {},
     "output_type": "execute_result"
    }
   ],
   "source": [
    "df.describe()"
   ]
  },
  {
   "cell_type": "code",
   "execution_count": 8,
   "id": "8d905df6",
   "metadata": {},
   "outputs": [
    {
     "data": {
      "text/plain": [
       "array(['Mixed Martial Arts', 'Soccer', 'Football', 'Basketball', 'Tennis',\n",
       "       'Racing', 'Golf', 'Boxing', 'Baseball', 'Cricket', 'Track', 'MMA',\n",
       "       'Cycling', 'Hockey', 'Football/Baseball'], dtype=object)"
      ]
     },
     "execution_count": 8,
     "metadata": {},
     "output_type": "execute_result"
    }
   ],
   "source": [
    "df.Sport.unique()"
   ]
  },
  {
   "cell_type": "markdown",
   "id": "307958ad",
   "metadata": {},
   "source": [
    "## Working with missing, incorrect, and invalid data\n",
    "Let's check the NaN values within the entire data frame. We will see a list of columns sorted according to the number of NaN values that they present."
   ]
  },
  {
   "cell_type": "code",
   "execution_count": 9,
   "id": "ecc01259",
   "metadata": {},
   "outputs": [
    {
     "data": {
      "text/plain": [
       "Name        0\n",
       "Earnings    0\n",
       "Year        0\n",
       "Sport       0\n",
       "dtype: int64"
      ]
     },
     "execution_count": 9,
     "metadata": {},
     "output_type": "execute_result"
    }
   ],
   "source": [
    "df.isnull().sum()"
   ]
  },
  {
   "cell_type": "markdown",
   "id": "2171e960",
   "metadata": {},
   "source": [
    "Here we can see there is no NAN value, so the data is ready for visualization."
   ]
  },
  {
   "cell_type": "markdown",
   "id": "81679dc6",
   "metadata": {},
   "source": [
    "# 3.Exploratory Data Analysis (EDA) and Visualization. Quantitative and qualitative analysis (Asking and Answering Questions)."
   ]
  },
  {
   "cell_type": "markdown",
   "id": "5a8017fe",
   "metadata": {},
   "source": [
    "To find insight from our dataset, we'll explore its variables. This exploratory analysis will help us to understand how the variables interact and how representative they are. In the end, it'll help us to formulate hypotheses to reach the goal of the project and think about future works."
   ]
  },
  {
   "cell_type": "code",
   "execution_count": 10,
   "id": "e53e969b",
   "metadata": {},
   "outputs": [
    {
     "data": {
      "text/html": [
       "<div>\n",
       "<style scoped>\n",
       "    .dataframe tbody tr th:only-of-type {\n",
       "        vertical-align: middle;\n",
       "    }\n",
       "\n",
       "    .dataframe tbody tr th {\n",
       "        vertical-align: top;\n",
       "    }\n",
       "\n",
       "    .dataframe thead th {\n",
       "        text-align: right;\n",
       "    }\n",
       "</style>\n",
       "<table border=\"1\" class=\"dataframe\">\n",
       "  <thead>\n",
       "    <tr style=\"text-align: right;\">\n",
       "      <th></th>\n",
       "      <th>Name</th>\n",
       "      <th>Earnings</th>\n",
       "      <th>Year</th>\n",
       "      <th>Sport</th>\n",
       "    </tr>\n",
       "  </thead>\n",
       "  <tbody>\n",
       "    <tr>\n",
       "      <th>523</th>\n",
       "      <td>Andy Murray</td>\n",
       "      <td>23.0</td>\n",
       "      <td>2016</td>\n",
       "      <td>Tennis</td>\n",
       "    </tr>\n",
       "    <tr>\n",
       "      <th>142</th>\n",
       "      <td>Andre Drummond</td>\n",
       "      <td>22.6</td>\n",
       "      <td>2020</td>\n",
       "      <td>Basketball</td>\n",
       "    </tr>\n",
       "    <tr>\n",
       "      <th>1367</th>\n",
       "      <td>Ken Griffey Jr</td>\n",
       "      <td>13.0</td>\n",
       "      <td>1997</td>\n",
       "      <td>Baseball</td>\n",
       "    </tr>\n",
       "    <tr>\n",
       "      <th>1252</th>\n",
       "      <td>Arnold Palmer</td>\n",
       "      <td>17.0</td>\n",
       "      <td>2002</td>\n",
       "      <td>Golf</td>\n",
       "    </tr>\n",
       "    <tr>\n",
       "      <th>98</th>\n",
       "      <td>Mesut Ozil</td>\n",
       "      <td>28.7</td>\n",
       "      <td>2020</td>\n",
       "      <td>Soccer</td>\n",
       "    </tr>\n",
       "  </tbody>\n",
       "</table>\n",
       "</div>"
      ],
      "text/plain": [
       "                Name  Earnings  Year       Sport\n",
       "523      Andy Murray      23.0  2016      Tennis\n",
       "142   Andre Drummond      22.6  2020  Basketball\n",
       "1367  Ken Griffey Jr      13.0  1997    Baseball\n",
       "1252   Arnold Palmer      17.0  2002        Golf\n",
       "98        Mesut Ozil      28.7  2020      Soccer"
      ]
     },
     "execution_count": 10,
     "metadata": {},
     "output_type": "execute_result"
    }
   ],
   "source": [
    "df.sample(5)"
   ]
  },
  {
   "cell_type": "code",
   "execution_count": 11,
   "id": "3463fd50",
   "metadata": {},
   "outputs": [
    {
     "data": {
      "image/png": "[encoded data removed]",
      "text/plain": [
       "<Figure size 360x360 with 6 Axes>"
      ]
     },
     "metadata": {
      "needs_background": "light"
     },
     "output_type": "display_data"
    }
   ],
   "source": [
    "sns.pairplot(df, markers = '.');"
   ]
  },
  {
   "cell_type": "markdown",
   "id": "e0a8dbce",
   "metadata": {},
   "source": [
    "## Total earnings of all athletes per year"
   ]
  },
  {
   "cell_type": "code",
   "execution_count": 12,
   "id": "1f6d47a0",
   "metadata": {},
   "outputs": [
    {
     "data": {
      "text/plain": [
       "Year\n",
       "2019    3998.9\n",
       "2018    3814.9\n",
       "2020    3622.3\n",
       "2015    3218.7\n",
       "2016    3152.4\n",
       "Name: Earnings, dtype: float64"
      ]
     },
     "execution_count": 12,
     "metadata": {},
     "output_type": "execute_result"
    }
   ],
   "source": [
    "# group Earnings by Year\n",
    "total_income_per_year = df.groupby('Year')['Earnings'].sum().sort_values(ascending=False)\n",
    "total_income_per_year.head()"
   ]
  },
  {
   "cell_type": "code",
   "execution_count": 13,
   "id": "08bfa56a",
   "metadata": {},
   "outputs": [
    {
     "data": {
      "image/png": "[encoded data removed]",
      "text/plain": [
       "<Figure size 936x432 with 1 Axes>"
      ]
     },
     "metadata": {
      "needs_background": "light"
     },
     "output_type": "display_data"
    }
   ],
   "source": [
    "#Create a visualization of the data\n",
    "plt.figure(figsize=(13,6))\n",
    "plt.bar(total_income_per_year.index,total_income_per_year, color='lightblue')\n",
    "\n",
    "plt.title('Total Athletes Income per Year', fontsize=18);\n",
    "plt.ylabel('Million USD', fontsize=16, color='green');\n",
    "plt.grid()"
   ]
  },
  {
   "cell_type": "markdown",
   "id": "a5de6c0a",
   "metadata": {},
   "source": [
    "The Year has highest total athletes earning value is:\n",
    "\n",
    "2019 (3998.9) then 2018 (3814.9) and 2020 (3622.3)"
   ]
  },
  {
   "cell_type": "markdown",
   "id": "fc40fb43",
   "metadata": {},
   "source": [
    "# Asking and Answering Questions:"
   ]
  },
  {
   "cell_type": "markdown",
   "id": "3fbf5635",
   "metadata": {},
   "source": [
    "## Which Athletes has the highest Earning value?"
   ]
  },
  {
   "cell_type": "code",
   "execution_count": 14,
   "id": "90fdf717",
   "metadata": {},
   "outputs": [],
   "source": [
    "name_group = df.groupby('Name') #Count the total earnings of every athlete\n",
    "total_earning = [i for i in name_group['Earnings'].sum()]\n",
    "\n",
    "names = df.Name.unique() #Create a list of names\n",
    "names.sort() #Sort it to make it corresponds to the total_earning list\n",
    "\n",
    "all_data = {'Name':names, 'TotalEarnings':total_earning}"
   ]
  },
  {
   "cell_type": "code",
   "execution_count": 15,
   "id": "3b7f4e71",
   "metadata": {},
   "outputs": [
    {
     "data": {
      "text/html": [
       "<div>\n",
       "<style scoped>\n",
       "    .dataframe tbody tr th:only-of-type {\n",
       "        vertical-align: middle;\n",
       "    }\n",
       "\n",
       "    .dataframe tbody tr th {\n",
       "        vertical-align: top;\n",
       "    }\n",
       "\n",
       "    .dataframe thead th {\n",
       "        text-align: right;\n",
       "    }\n",
       "</style>\n",
       "<table border=\"1\" class=\"dataframe\">\n",
       "  <thead>\n",
       "    <tr style=\"text-align: right;\">\n",
       "      <th></th>\n",
       "      <th>Name</th>\n",
       "      <th>TotalEarnings</th>\n",
       "    </tr>\n",
       "  </thead>\n",
       "  <tbody>\n",
       "    <tr>\n",
       "      <th>494</th>\n",
       "      <td>Tiger Woods</td>\n",
       "      <td>1632.2</td>\n",
       "    </tr>\n",
       "    <tr>\n",
       "      <th>182</th>\n",
       "      <td>Floyd Mayweather</td>\n",
       "      <td>944.5</td>\n",
       "    </tr>\n",
       "    <tr>\n",
       "      <th>108</th>\n",
       "      <td>Cristiano Ronaldo</td>\n",
       "      <td>942.9</td>\n",
       "    </tr>\n",
       "    <tr>\n",
       "      <th>449</th>\n",
       "      <td>Roger Federer</td>\n",
       "      <td>933.1</td>\n",
       "    </tr>\n",
       "    <tr>\n",
       "      <th>327</th>\n",
       "      <td>Lionel Messi</td>\n",
       "      <td>911.5</td>\n",
       "    </tr>\n",
       "  </tbody>\n",
       "</table>\n",
       "</div>"
      ],
      "text/plain": [
       "                  Name  TotalEarnings\n",
       "494        Tiger Woods         1632.2\n",
       "182   Floyd Mayweather          944.5\n",
       "108  Cristiano Ronaldo          942.9\n",
       "449      Roger Federer          933.1\n",
       "327       Lionel Messi          911.5"
      ]
     },
     "execution_count": 15,
     "metadata": {},
     "output_type": "execute_result"
    }
   ],
   "source": [
    "#Create new data frame\n",
    "df2 = pd.DataFrame(all_data)\n",
    "df2.sort_values('TotalEarnings', ascending=False, inplace=True)\n",
    "df2.head()"
   ]
  },
  {
   "cell_type": "code",
   "execution_count": 16,
   "id": "d0b0525c",
   "metadata": {},
   "outputs": [],
   "source": [
    "#Create new variables for another plot\n",
    "top10_names = df2['Name'].head(10)\n",
    "top10_TEs = df2['TotalEarnings'].head(10)"
   ]
  },
  {
   "cell_type": "code",
   "execution_count": 17,
   "id": "d34d73d6",
   "metadata": {},
   "outputs": [
    {
     "data": {
      "image/png": "[encoded data removed]",
      "text/plain": [
       "<Figure size 936x432 with 1 Axes>"
      ]
     },
     "metadata": {
      "needs_background": "light"
     },
     "output_type": "display_data"
    }
   ],
   "source": [
    "plt.figure(figsize=(13,6))\n",
    "plt.barh(top10_names, top10_TEs, edgecolor='black', color='lightgreen')\n",
    "\n",
    "plt.title('Total Income', fontsize=18)\n",
    "plt.xlabel('Million USD', fontsize=18)\n",
    "plt.yticks(fontsize=14)\n",
    "plt.xticks(fontsize=14)\n",
    "\n",
    "plt.grid(linestyle='--', axis='x')\n",
    "plt.gca().invert_yaxis()"
   ]
  },
  {
   "cell_type": "markdown",
   "id": "dd6e571a",
   "metadata": {},
   "source": [
    "The Athletes with highest Earning value:\n",
    "* Tiger Woods 1632.\n",
    "* Floyd Mayweather 944.5\n",
    "* Cristiano Ronaldo 942.9"
   ]
  },
  {
   "cell_type": "markdown",
   "id": "e99bb450",
   "metadata": {},
   "source": [
    "## Which Sport has the highest Earning value?"
   ]
  },
  {
   "cell_type": "code",
   "execution_count": 18,
   "id": "dfa6173c",
   "metadata": {},
   "outputs": [
    {
     "data": {
      "text/plain": [
       "Sport\n",
       "Basketball    11574.8\n",
       "Football       7209.9\n",
       "Baseball       5818.1\n",
       "Soccer         5402.8\n",
       "Golf           3917.3\n",
       "Name: Earnings, dtype: float64"
      ]
     },
     "execution_count": 18,
     "metadata": {},
     "output_type": "execute_result"
    }
   ],
   "source": [
    "# group Earnings by Sport \n",
    "total_earning_by_sport =df.groupby('Sport')['Earnings'].sum().sort_values(ascending=False)\n",
    "total_earning_by_sport.head()"
   ]
  },
  {
   "cell_type": "code",
   "execution_count": 19,
   "id": "b65d0ca5",
   "metadata": {},
   "outputs": [
    {
     "data": {
      "image/png": "[encoded data removed]",
      "text/plain": [
       "<Figure size 936x432 with 1 Axes>"
      ]
     },
     "metadata": {
      "needs_background": "light"
     },
     "output_type": "display_data"
    }
   ],
   "source": [
    "#Create a visualization of the data\n",
    "plt.figure(figsize=(13,6))\n",
    "plt.bar(total_earning_by_sport.index,total_earning_by_sport, color='lightblue')\n",
    "plt.xticks(rotation=75)\n",
    "plt.title('Total Athletes Income per Year', fontsize=18);\n",
    "plt.ylabel('Million USD', fontsize=16, color='green');\n",
    "plt.grid()"
   ]
  },
  {
   "cell_type": "markdown",
   "id": "88470f08",
   "metadata": {},
   "source": [
    "The sports has the highest earning values is:\n",
    "* Basketball (11544.0) then Football (7209.9) and Baseball (5818.1)."
   ]
  },
  {
   "cell_type": "markdown",
   "id": "a51b2fa9",
   "metadata": {},
   "source": [
    "# Inferences and Conclusion"
   ]
  },
  {
   "cell_type": "markdown",
   "id": "12287a8f",
   "metadata": {},
   "source": [
    "These are the few conclusions that I can draw from the above analysis."
   ]
  },
  {
   "cell_type": "markdown",
   "id": "a9e9a2d3",
   "metadata": {},
   "source": [
    "* The Year has highest total athletes earning value is: **2019 (3998.9)** then **2018 (3814.9)** and **2020 (3622.3)**.\n",
    "* The sports has the highest earning values is: **Basketball (11544.0)** then **Football (7209.9)** and **Baseball (5818.1)**.\n",
    "* The Athletes wuth highest Earning value: **Tiger Woods (1632.2)** then **Floyd Mayweather (944.5)** then **Cristiano Ronaldo (942.9)**."
   ]
  },
  {
   "cell_type": "code",
   "execution_count": null,
   "id": "a2734e32",
   "metadata": {},
   "outputs": [],
   "source": []
  }
 ],
 "metadata": {
  "kernelspec": {
   "display_name": "Python 3",
   "language": "python",
   "name": "python3"
  },
  "language_info": {
   "codemirror_mode": {
    "name": "ipython",
    "version": 3
   },
   "file_extension": ".py",
   "mimetype": "text/x-python",
   "name": "python",
   "nbconvert_exporter": "python",
   "pygments_lexer": "ipython3",
   "version": "3.8.8"
  }
 },
 "nbformat": 4,
 "nbformat_minor": 5
}
